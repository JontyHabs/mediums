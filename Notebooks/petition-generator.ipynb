{
 "cells": [
  {
   "cell_type": "markdown",
   "id": "0976b40c",
   "metadata": {},
   "source": [
    "# Generating Petitions"
   ]
  },
  {
   "cell_type": "markdown",
   "id": "de66c35a",
   "metadata": {},
   "source": [
    "### Training our own Transformer"
   ]
  },
  {
   "cell_type": "markdown",
   "id": "3ab8112d",
   "metadata": {},
   "source": [
    "For our first attempt, we'll train our own petition generator using a sample of ~15k UK Government petitions. We aim to create a model which generates text for a petition based on a short title."
   ]
  },
  {
   "cell_type": "code",
   "execution_count": 1,
   "id": "7b9737ab",
   "metadata": {},
   "outputs": [],
   "source": [
    "import boto3\n",
    "import json\n",
    "import math\n",
    "from timeit import default_timer as timer\n",
    "import torch\n",
    "import torch.nn as nn\n",
    "from typing import Iterable, List\n",
    "from torchtext.data.utils import get_tokenizer\n",
    "from torchtext.vocab import build_vocab_from_iterator\n",
    "from torch import Tensor\n",
    "from torch.nn import Transformer\n",
    "from torch.nn.utils.rnn import pad_sequence\n",
    "from torch.utils.data import DataLoader"
   ]
  },
  {
   "cell_type": "code",
   "execution_count": 2,
   "id": "1927733d",
   "metadata": {},
   "outputs": [
    {
     "data": {
      "text/plain": [
       "{'description': 'Many children and are choosing to live a life surrounded by the streets, drugs, and murders. This stems from poor education, the education system in the UK is outdated and boring. There needs to be a change to help children, give them confidence and knowledge of work skills.',\n",
       " 'title': 'Introduce work-based subjects and practical skills into the schools in the UK.',\n",
       " 'num_signatures': 127}"
      ]
     },
     "metadata": {},
     "output_type": "display_data"
    }
   ],
   "source": [
    "# Load the data\n",
    "bucket = \"petition-data\"  # replace with your bucket name\n",
    "key = \"petitions.json\"    # replace with your filename\n",
    "\n",
    "s3client = boto3.client('s3')\n",
    "response = s3client.get_object(Bucket=bucket, Key= key)\n",
    "body = response['Body']\n",
    "\n",
    "data = json.loads(body.read())\n",
    "petitions = json.loads(data)\n",
    "\n",
    "# The petition data consists of a description, a title, and number of signatures\n",
    "display(petitions[0])"
   ]
  },
  {
   "cell_type": "markdown",
   "id": "5db1f5f8",
   "metadata": {},
   "source": [
    "PyTorch uses Datasets and DataLoaders. Datasets are classes which allow individual samples to be retrieved, DataLoaders take care of batches. Models take DataLoaders as input.\n",
    "\n",
    "A custom Dataset class must implement __init__ and __len__. A standard \"map style\" dataset must implement __getitem__, whilst an IterableDataset must implement __iter__.\n",
    "\n",
    "https://medium.com/speechmatics/how-to-build-a-streaming-dataloader-with-pytorch-a66dd891d9dd"
   ]
  },
  {
   "cell_type": "code",
   "execution_count": 3,
   "id": "82003f2d",
   "metadata": {},
   "outputs": [],
   "source": [
    "# Create custom Dataset object\n",
    "class IterablePetitionsDataset(torch.utils.data.IterableDataset):\n",
    "    def __init__(self, data):\n",
    "        super(IterablePetitionsDataset).__init__()\n",
    "        self.data = data\n",
    "\n",
    "    def __iter__(self):\n",
    "        return iter(self.data)\n",
    "    \n",
    "    def __len__(self):\n",
    "        return len(self.data)\n",
    "    \n",
    "# Organise our data to be a list of samples, each containing the petition title\n",
    "# on the left (input) and description on the right (output)\n",
    "data = [(p['title'], p['description']) for p in petitions]\n",
    "\n",
    "# Split the data into train and validation (N.B the order of the data is already random)\n",
    "data_valid = data[:2500]\n",
    "data_train = data[2500:]"
   ]
  },
  {
   "cell_type": "markdown",
   "id": "af728499",
   "metadata": {},
   "source": [
    "Next, we need to create our vocabulary from our training data. We'll also include special symbols in our vocab, which are expected by PyTorch later:\n",
    "\n",
    "unk - 'unknown' - used in inference when an input word isn't in our vocabulary\n",
    "\n",
    "pad - 'padding' - used to pad our word sequences to ensure consistent length\n",
    "\n",
    "bos - 'beginning of string' - used to denote start of a sequence\n",
    "\n",
    "eos - 'end of string' - used to denote end of a sequence\n",
    "\n",
    "We won't do any case normalisation, stemming, stop-word removal, etc. These steps are useful in some language tasks, but when to generate realistic text we need to be able to generate full words, stop words, and upper case when appropriate."
   ]
  },
  {
   "cell_type": "code",
   "execution_count": 4,
   "id": "8c615854",
   "metadata": {},
   "outputs": [
    {
     "data": {
      "text/plain": [
       "[0, 29713, 6, 1037]"
      ]
     },
     "metadata": {},
     "output_type": "display_data"
    },
    {
     "data": {
      "text/plain": [
       "['<unk>', 'tokens', 'to', 'numbers']"
      ]
     },
     "metadata": {},
     "output_type": "display_data"
    }
   ],
   "source": [
    "# Create tokenizer\n",
    "token_transform = get_tokenizer('spacy', language='en_core_web_sm')\n",
    "\n",
    "# Function to yield a list of words from an iterable of text samples\n",
    "def yield_tokens(data_iter: Iterable) -> List[str]:\n",
    "    for data_sample in data_iter:\n",
    "        # Use both the input and output texts (title and description)\n",
    "        # to generate our vocab\n",
    "        text = \" \".join([data_sample[0], data_sample[1]])\n",
    "        yield token_transform(text)\n",
    "\n",
    "# Define special symbols and indices\n",
    "UNK_IDX, PAD_IDX, BOS_IDX, EOS_IDX = 0, 1, 2, 3\n",
    "# Make sure the tokens are in order of their indices to properly insert them in vocab\n",
    "special_symbols = ['<unk>', '<pad>', '<bos>', '<eos>']\n",
    "\n",
    "# Create vocab from training data\n",
    "train_iter = IterablePetitionsDataset(data_train)\n",
    "vocab_transform = build_vocab_from_iterator(yield_tokens(train_iter),\n",
    "                                                    min_freq=1,\n",
    "                                                    specials=special_symbols,\n",
    "                                                    special_first=True)\n",
    "\n",
    "\n",
    "# Set UNK_IDX as the default index. This index is returned when the token is not found.\n",
    "# If not set, it throws RuntimeError when the queried token is not found in the Vocabulary.\n",
    "vocab_transform.set_default_index(UNK_IDX)\n",
    "\n",
    "# We now have a vocab - this is just a lookup which translates words into integers and vice versa\n",
    "display(vocab_transform.lookup_indices([\"Translate\", \"tokens\", \"to\", \"numbers\"]))\n",
    "display(vocab_transform.lookup_tokens([0, 29713, 6, 1037]))"
   ]
  },
  {
   "attachments": {
    "The-transformer-model-from-Attention-is-all-you-need-Viswani-et-al_Q320.jpg": {
     "image/jpeg": "[encoded data removed]"
    }
   },
   "cell_type": "markdown",
   "id": "a240e8b1",
   "metadata": {},
   "source": [
    "![The-transformer-model-from-Attention-is-all-you-need-Viswani-et-al_Q320.jpg](attachment:The-transformer-model-from-Attention-is-all-you-need-Viswani-et-al_Q320.jpg)\n",
    "\n",
    "Now it's time to code the main elements of the Transformer."
   ]
  },
  {
   "cell_type": "code",
   "execution_count": 5,
   "id": "5973cd67",
   "metadata": {},
   "outputs": [],
   "source": [
    "# Ensure you run on a GPU if possible\n",
    "DEVICE = torch.device('cuda' if torch.cuda.is_available() else 'cpu')\n",
    "\n",
    "# Input/Output Embedding #\n",
    "# A module to embed a sequence - i.e. transform each word in the sequence into a vector\n",
    "# This will give us a tensor representing the vector for each word in the sequence\n",
    "# We'll use this module on each side of the Transformer (pink boxes above)\n",
    "class TokenEmbedding(nn.Module):\n",
    "    def __init__(self, vocab_size: int, emb_size):\n",
    "        super(TokenEmbedding, self).__init__()\n",
    "        self.embedding = nn.Embedding(vocab_size, emb_size)\n",
    "        self.emb_size = emb_size\n",
    "\n",
    "    def forward(self, tokens: Tensor):\n",
    "        return self.embedding(tokens.long()) * math.sqrt(self.emb_size)\n",
    "\n",
    "# Positional Encoding #\n",
    "# A Module to add positional encoding to the token embedding in order to codify word order\n",
    "# This is just calculating the sinusoids and adding the resulting tensor to the embedding tensor.\n",
    "# There is also a standard dropout layer, and a line to save the positional embeddings\n",
    "class PositionalEncoding(nn.Module):\n",
    "    def __init__(self,\n",
    "                 emb_size: int,\n",
    "                 dropout: float,\n",
    "                 maxlen: int = 5000):\n",
    "        super(PositionalEncoding, self).__init__()\n",
    "        den = torch.exp(- torch.arange(0, emb_size, 2)* math.log(10000) / emb_size)\n",
    "        pos = torch.arange(0, maxlen).reshape(maxlen, 1)\n",
    "        pos_embedding = torch.zeros((maxlen, emb_size))\n",
    "        pos_embedding[:, 0::2] = torch.sin(pos * den)\n",
    "        pos_embedding[:, 1::2] = torch.cos(pos * den)\n",
    "        pos_embedding = pos_embedding.unsqueeze(-2)\n",
    "\n",
    "        self.dropout = nn.Dropout(dropout)\n",
    "        self.register_buffer('pos_embedding', pos_embedding)\n",
    "\n",
    "    def forward(self, token_embedding: Tensor):\n",
    "        return self.dropout(token_embedding + self.pos_embedding[:token_embedding.size(0), :])\n",
    "\n",
    "\n",
    "\n",
    "# The full Transformer!\n",
    "class Seq2SeqTransformer(nn.Module):\n",
    "    def __init__(self,\n",
    "                 num_encoder_layers: int,\n",
    "                 num_decoder_layers: int,\n",
    "                 emb_size: int,\n",
    "                 nhead: int,\n",
    "                 src_vocab_size: int,\n",
    "                 tgt_vocab_size: int,\n",
    "                 dim_feedforward: int = 512,\n",
    "                 dropout: float = 0.1):\n",
    "        super(Seq2SeqTransformer, self).__init__()\n",
    "        self.transformer = Transformer(d_model=emb_size,\n",
    "                                       nhead=nhead,\n",
    "                                       num_encoder_layers=num_encoder_layers,\n",
    "                                       num_decoder_layers=num_decoder_layers,\n",
    "                                       dim_feedforward=dim_feedforward,\n",
    "                                       dropout=dropout)\n",
    "        self.generator = nn.Linear(emb_size, tgt_vocab_size)\n",
    "        self.src_tok_emb = TokenEmbedding(src_vocab_size, emb_size)\n",
    "        self.tgt_tok_emb = TokenEmbedding(tgt_vocab_size, emb_size)\n",
    "        self.positional_encoding = PositionalEncoding(\n",
    "            emb_size, dropout=dropout)\n",
    "\n",
    "    def forward(self,\n",
    "                src: Tensor,\n",
    "                trg: Tensor,\n",
    "                src_mask: Tensor,\n",
    "                tgt_mask: Tensor,\n",
    "                src_padding_mask: Tensor,\n",
    "                tgt_padding_mask: Tensor,\n",
    "                memory_key_padding_mask: Tensor):\n",
    "        src_emb = self.positional_encoding(self.src_tok_emb(src))\n",
    "        tgt_emb = self.positional_encoding(self.tgt_tok_emb(trg))\n",
    "        outs = self.transformer(src_emb, tgt_emb, src_mask, tgt_mask, None,\n",
    "                                src_padding_mask, tgt_padding_mask, memory_key_padding_mask)\n",
    "        return self.generator(outs)\n",
    "\n",
    "    def encode(self, src: Tensor, src_mask: Tensor):\n",
    "        return self.transformer.encoder(self.positional_encoding(\n",
    "                            self.src_tok_emb(src)), src_mask)\n",
    "\n",
    "    def decode(self, tgt: Tensor, memory: Tensor, tgt_mask: Tensor):\n",
    "        return self.transformer.decoder(self.positional_encoding(\n",
    "                          self.tgt_tok_emb(tgt)), memory,\n",
    "                          tgt_mask)"
   ]
  },
  {
   "cell_type": "markdown",
   "id": "ceded1b1",
   "metadata": {},
   "source": [
    "That Seq2SeqTransformer looks complicated, but the main bit is in the forward method. We apply token (word) embedding to the source and target sequences, followed by positional encoding. We then feed them both into the inbuilt Transformer module, along with some masks (which we'll get to next).\n",
    "\n",
    "The encode and decode methods allow us to apply just the encoder or decoder parts of the architecture - these will be used after training to actually use the model. As per the architecure diagram, there is also a Linear layer topping off the Transformer."
   ]
  },
  {
   "cell_type": "markdown",
   "id": "635e3481",
   "metadata": {},
   "source": [
    "Next we need to make two kinds of mask. One mask hides any padding tokens - we don't want to predict padding! The other mask hides the tokens in the target sequence which are right of the token we are predicting. i.e. - we don't want our model peeking at the answers while it's training!"
   ]
  },
  {
   "cell_type": "code",
   "execution_count": 6,
   "id": "c0dd00ef",
   "metadata": {},
   "outputs": [],
   "source": [
    "def generate_square_subsequent_mask(sz):\n",
    "    mask = (torch.triu(torch.ones((sz, sz), device=DEVICE)) == 1).transpose(0, 1)\n",
    "    mask = mask.float().masked_fill(mask == 0, float('-inf')).masked_fill(mask == 1, float(0.0))\n",
    "    return mask\n",
    "\n",
    "\n",
    "def create_mask(src, tgt):\n",
    "    src_seq_len = src.shape[0]\n",
    "    tgt_seq_len = tgt.shape[0]\n",
    "\n",
    "    tgt_mask = generate_square_subsequent_mask(tgt_seq_len)\n",
    "    src_mask = torch.zeros((src_seq_len, src_seq_len),device=DEVICE).type(torch.bool)\n",
    "\n",
    "    src_padding_mask = (src == PAD_IDX).transpose(0, 1)\n",
    "    tgt_padding_mask = (tgt == PAD_IDX).transpose(0, 1)\n",
    "    return src_mask, tgt_mask, src_padding_mask, tgt_padding_mask"
   ]
  },
  {
   "cell_type": "markdown",
   "id": "ee83c9ea",
   "metadata": {},
   "source": [
    "Next we define some parameters, such as the size of our token embeddings, the size of our batches, the number of encoder and decoder blocks we want to stack up, etc."
   ]
  },
  {
   "cell_type": "code",
   "execution_count": 7,
   "id": "f2711228",
   "metadata": {},
   "outputs": [],
   "source": [
    "torch.manual_seed(0)\n",
    "\n",
    "VOCAB_SIZE = len(vocab_transform)\n",
    "EMB_SIZE = 512\n",
    "NHEAD = 8\n",
    "FFN_HID_DIM = 512\n",
    "BATCH_SIZE = 128\n",
    "NUM_ENCODER_LAYERS = 3\n",
    "NUM_DECODER_LAYERS = 3\n",
    "\n",
    "transformer = Seq2SeqTransformer(NUM_ENCODER_LAYERS, NUM_DECODER_LAYERS, EMB_SIZE,\n",
    "                                 NHEAD, VOCAB_SIZE, VOCAB_SIZE, FFN_HID_DIM)\n",
    "\n",
    "for p in transformer.parameters():\n",
    "    if p.dim() > 1:\n",
    "        nn.init.xavier_uniform_(p)\n",
    "\n",
    "transformer = transformer.to(DEVICE)\n",
    "\n",
    "loss_fn = torch.nn.CrossEntropyLoss(ignore_index=PAD_IDX)\n",
    "\n",
    "optimizer = torch.optim.Adam(transformer.parameters(), lr=0.0001, betas=(0.9, 0.98), eps=1e-9)"
   ]
  },
  {
   "cell_type": "markdown",
   "id": "1b60e668",
   "metadata": {},
   "source": [
    "Finally, we need some helper functions which we'll call when transforming a Dataset instance into a DataLoader instance. These will transform the raw sentences in our training data into tensors. The sentence will be tokenized (split into words), numericalized (each word is turned into a number), and then made into a tensor (during which we'll also add **bos** and **eos** tokens). We'll also pad out our sequences to ensure all source sequences in a given batch are equal length, and the same for target seuqnces."
   ]
  },
  {
   "cell_type": "code",
   "execution_count": 8,
   "id": "2661c526",
   "metadata": {},
   "outputs": [],
   "source": [
    "# helper function to club together sequential operations\n",
    "def sequential_transforms(*transforms):\n",
    "    def func(txt_input):\n",
    "        for transform in transforms:\n",
    "            txt_input = transform(txt_input)\n",
    "        return txt_input\n",
    "    return func\n",
    "\n",
    "# function to add BOS/EOS and create tensor for input sequence indices\n",
    "def tensor_transform(token_ids: List[int]):\n",
    "    return torch.cat((torch.tensor([BOS_IDX]),\n",
    "                      torch.tensor(token_ids),\n",
    "                      torch.tensor([EOS_IDX])))\n",
    "\n",
    "# src and tgt language text transforms to convert raw strings into tensors indices\n",
    "text_transform = {}\n",
    "text_transform = sequential_transforms(token_transform, #Tokenization\n",
    "                                               vocab_transform, #Numericalization\n",
    "                                               tensor_transform) # Add BOS/EOS and create tensor\n",
    "\n",
    "\n",
    "# function to collate data samples into batch tesors\n",
    "def collate_fn(batch):\n",
    "    src_batch, tgt_batch = [], []\n",
    "    for src_sample, tgt_sample in batch:\n",
    "        src_batch.append(text_transform(src_sample.rstrip(\"\\n\")))\n",
    "        tgt_batch.append(text_transform(tgt_sample.rstrip(\"\\n\")))\n",
    "\n",
    "    src_batch = pad_sequence(src_batch, padding_value=PAD_IDX)\n",
    "    tgt_batch = pad_sequence(tgt_batch, padding_value=PAD_IDX)\n",
    "    return src_batch, tgt_batch"
   ]
  },
  {
   "cell_type": "markdown",
   "id": "51a8a22d",
   "metadata": {},
   "source": [
    "Almost there! We need a function to train each epoch - this just turns out training data into batches of tensors (using the functions above), and then puts each batch through the model to update the model weights. A very similar function puts our validation through the model to calculate loss."
   ]
  },
  {
   "cell_type": "code",
   "execution_count": 9,
   "id": "74be710e",
   "metadata": {},
   "outputs": [],
   "source": [
    "def train_epoch(model, optimizer):\n",
    "    model.train()\n",
    "    losses = 0\n",
    "    train_iter = IterablePetitionsDataset(data_train)\n",
    "    train_dataloader = DataLoader(train_iter, batch_size=BATCH_SIZE, collate_fn=collate_fn)\n",
    "\n",
    "    for src, tgt in train_dataloader:\n",
    "        src = src.to(DEVICE)\n",
    "        tgt = tgt.to(DEVICE)\n",
    "\n",
    "        tgt_input = tgt[:-1, :]\n",
    "\n",
    "        src_mask, tgt_mask, src_padding_mask, tgt_padding_mask = create_mask(src, tgt_input)\n",
    "\n",
    "        logits = model(src, tgt_input, src_mask, tgt_mask,src_padding_mask, tgt_padding_mask, src_padding_mask)\n",
    "\n",
    "        optimizer.zero_grad()\n",
    "\n",
    "        tgt_out = tgt[1:, :]\n",
    "        loss = loss_fn(logits.reshape(-1, logits.shape[-1]), tgt_out.reshape(-1))\n",
    "        loss.backward()\n",
    "\n",
    "        optimizer.step()\n",
    "        losses += loss.item()\n",
    "\n",
    "    return losses / len(train_dataloader)\n",
    "\n",
    "\n",
    "def evaluate(model):\n",
    "    model.eval()\n",
    "    losses = 0\n",
    "\n",
    "    val_iter = IterablePetitionsDataset(data_valid)\n",
    "    val_dataloader = DataLoader(val_iter, batch_size=BATCH_SIZE, collate_fn=collate_fn)\n",
    "\n",
    "    for src, tgt in val_dataloader:\n",
    "        src = src.to(DEVICE)\n",
    "        tgt = tgt.to(DEVICE)\n",
    "\n",
    "        tgt_input = tgt[:-1, :]\n",
    "\n",
    "        src_mask, tgt_mask, src_padding_mask, tgt_padding_mask = create_mask(src, tgt_input)\n",
    "\n",
    "        logits = model(src, tgt_input, src_mask, tgt_mask,src_padding_mask, tgt_padding_mask, src_padding_mask)\n",
    "\n",
    "        tgt_out = tgt[1:, :]\n",
    "        loss = loss_fn(logits.reshape(-1, logits.shape[-1]), tgt_out.reshape(-1))\n",
    "        losses += loss.item()\n",
    "\n",
    "    return losses / len(val_dataloader)"
   ]
  },
  {
   "cell_type": "markdown",
   "id": "d0f65f76",
   "metadata": {},
   "source": [
    "And now we train!"
   ]
  },
  {
   "cell_type": "code",
   "execution_count": 11,
   "id": "ccb9e0be",
   "metadata": {},
   "outputs": [
    {
     "name": "stdout",
     "output_type": "stream",
     "text": [
      "Epoch: 1, Train loss: 8.074, Val loss: 6.982, Epoch time = 50.101s\n",
      "Epoch: 2, Train loss: 6.777, Val loss: 6.500, Epoch time = 52.665s\n",
      "Epoch: 3, Train loss: 6.284, Val loss: 6.153, Epoch time = 54.492s\n",
      "Epoch: 4, Train loss: 5.979, Val loss: 5.984, Epoch time = 54.301s\n",
      "Epoch: 5, Train loss: 5.781, Val loss: 5.880, Epoch time = 54.385s\n",
      "Epoch: 6, Train loss: 5.630, Val loss: 5.819, Epoch time = 54.436s\n",
      "Epoch: 7, Train loss: 5.501, Val loss: 5.776, Epoch time = 54.405s\n",
      "Epoch: 8, Train loss: 5.386, Val loss: 5.740, Epoch time = 54.226s\n",
      "Epoch: 9, Train loss: 5.279, Val loss: 5.715, Epoch time = 54.433s\n",
      "Epoch: 10, Train loss: 5.181, Val loss: 5.692, Epoch time = 54.364s\n",
      "Epoch: 11, Train loss: 5.085, Val loss: 5.682, Epoch time = 54.485s\n",
      "Epoch: 12, Train loss: 4.988, Val loss: 5.670, Epoch time = 54.406s\n",
      "Epoch: 13, Train loss: 4.897, Val loss: 5.660, Epoch time = 54.510s\n",
      "Epoch: 14, Train loss: 4.814, Val loss: 5.671, Epoch time = 54.519s\n",
      "Epoch: 15, Train loss: 4.732, Val loss: 5.661, Epoch time = 54.502s\n",
      "Epoch: 16, Train loss: 4.649, Val loss: 5.645, Epoch time = 54.473s\n",
      "Epoch: 17, Train loss: 4.563, Val loss: 5.639, Epoch time = 54.683s\n",
      "Epoch: 18, Train loss: 4.482, Val loss: 5.651, Epoch time = 54.518s\n",
      "Epoch: 19, Train loss: 4.407, Val loss: 5.655, Epoch time = 54.658s\n",
      "Epoch: 20, Train loss: 4.324, Val loss: 5.659, Epoch time = 54.422s\n",
      "Epoch: 21, Train loss: 4.242, Val loss: 5.657, Epoch time = 54.434s\n",
      "Epoch: 22, Train loss: 4.170, Val loss: 5.702, Epoch time = 54.618s\n",
      "Epoch: 23, Train loss: 4.099, Val loss: 5.749, Epoch time = 54.620s\n",
      "Epoch: 24, Train loss: 4.027, Val loss: 5.742, Epoch time = 54.534s\n",
      "Epoch: 25, Train loss: 3.953, Val loss: 5.724, Epoch time = 54.547s\n",
      "Epoch: 26, Train loss: 3.879, Val loss: 5.750, Epoch time = 54.534s\n",
      "Epoch: 27, Train loss: 3.802, Val loss: 5.756, Epoch time = 54.481s\n",
      "Epoch: 28, Train loss: 3.729, Val loss: 5.795, Epoch time = 54.604s\n",
      "Epoch: 29, Train loss: 3.657, Val loss: 5.808, Epoch time = 54.592s\n",
      "Epoch: 30, Train loss: 3.587, Val loss: 5.847, Epoch time = 54.643s\n"
     ]
    }
   ],
   "source": [
    "NUM_EPOCHS = 30\n",
    "\n",
    "for epoch in range(1, NUM_EPOCHS+1):\n",
    "    start_time = timer()\n",
    "    train_loss = train_epoch(transformer, optimizer)\n",
    "    end_time = timer()\n",
    "    val_loss = evaluate(transformer)\n",
    "    print((f\"Epoch: {epoch}, Train loss: {train_loss:.3f}, Val loss: {val_loss:.3f}, \"f\"Epoch time = {(end_time - start_time):.3f}s\"))"
   ]
  },
  {
   "cell_type": "code",
   "execution_count": 377,
   "id": "03d1529e",
   "metadata": {},
   "outputs": [],
   "source": [
    "# Save out model\n",
    "torch.save(transformer.state_dict(), 'petiton_transformer_002')\n",
    "response = s3client.upload_file('petiton_transformer_002', 'torch-models', 'petiton_transformer_002')"
   ]
  },
  {
   "cell_type": "markdown",
   "id": "0d7a4bb8",
   "metadata": {},
   "source": [
    "### Stepping through the model - validation"
   ]
  },
  {
   "cell_type": "markdown",
   "id": "5f4252cf",
   "metadata": {},
   "source": [
    "The training and validation can be quite mystifying - so let's take a single example through the model, end-to-end, to understand what's happening."
   ]
  },
  {
   "cell_type": "code",
   "execution_count": 319,
   "id": "8e2346b9",
   "metadata": {},
   "outputs": [
    {
     "data": {
      "text/plain": [
       "('Introduce work-based subjects and practical skills into the schools in the UK.',\n",
       " 'Many children and are choosing to live a life surrounded by the streets, drugs, and murders. This stems from poor education, the education system in the UK is outdated and boring. There needs to be a change to help children, give them confidence and knowledge of work skills.')"
      ]
     },
     "metadata": {},
     "output_type": "display_data"
    }
   ],
   "source": [
    "# Let's take an example from the validation data:\n",
    "datapoint = data_valid[0]\n",
    "\n",
    "display(datapoint)"
   ]
  },
  {
   "cell_type": "code",
   "execution_count": 320,
   "id": "0869196f",
   "metadata": {},
   "outputs": [
    {
     "data": {
      "text/plain": [
       "torch.Size([17])"
      ]
     },
     "metadata": {},
     "output_type": "display_data"
    },
    {
     "data": {
      "text/plain": [
       "tensor([   2,  238,  107,   26,  357, 2047,    7, 3239,  923,   96,    4,  125,\n",
       "          11,    4,   19,    5,    3])"
      ]
     },
     "metadata": {},
     "output_type": "display_data"
    },
    {
     "data": {
      "text/plain": [
       "['<bos>',\n",
       " 'Introduce',\n",
       " 'work',\n",
       " '-',\n",
       " 'based',\n",
       " 'subjects',\n",
       " 'and',\n",
       " 'practical',\n",
       " 'skills',\n",
       " 'into',\n",
       " 'the',\n",
       " 'schools',\n",
       " 'in',\n",
       " 'the',\n",
       " 'UK',\n",
       " '.',\n",
       " '<eos>']"
      ]
     },
     "metadata": {},
     "output_type": "display_data"
    }
   ],
   "source": [
    "# Step 1: Translate a sentence into scalars\n",
    "\n",
    "src_sentence = datapoint[0]\n",
    "tgt_sentence = datapoint[1]\n",
    "\n",
    "# Use our tokenizer and lookup from the start to change a sentence into words, and\n",
    "# those words into integers\n",
    "src_vec = text_transform(src_sentence)\n",
    "tgt_vec = text_transform(tgt_sentence)\n",
    "\n",
    "# Each input word is now a single number, and we also have spots for the full stop,\n",
    "# <bos> and <eos>\n",
    "display(src_vec.shape)\n",
    "display(src_vec)\n",
    "display(vocab_transform.lookup_tokens(list(src_vec)))"
   ]
  },
  {
   "cell_type": "code",
   "execution_count": 321,
   "id": "e1e8fbd1",
   "metadata": {},
   "outputs": [
    {
     "data": {
      "text/plain": [
       "torch.Size([56, 56])"
      ]
     },
     "metadata": {},
     "output_type": "display_data"
    },
    {
     "data": {
      "text/plain": [
       "tensor([[2., -inf, -inf, -inf, -inf, -inf, -inf, -inf, -inf, -inf, -inf, -inf, -inf, -inf, -inf, -inf, -inf, -inf,\n",
       "         -inf, -inf, -inf, -inf, -inf, -inf, -inf, -inf, -inf, -inf, -inf, -inf, -inf, -inf, -inf, -inf, -inf, -inf,\n",
       "         -inf, -inf, -inf, -inf, -inf, -inf, -inf, -inf, -inf, -inf, -inf, -inf, -inf, -inf, -inf, -inf, -inf, -inf,\n",
       "         -inf, -inf]], device='cuda:0')"
      ]
     },
     "metadata": {},
     "output_type": "display_data"
    },
    {
     "data": {
      "text/plain": [
       "tensor([[  2., 201., -inf, -inf, -inf, -inf, -inf, -inf, -inf, -inf, -inf, -inf,\n",
       "         -inf, -inf, -inf, -inf, -inf, -inf, -inf, -inf, -inf, -inf, -inf, -inf,\n",
       "         -inf, -inf, -inf, -inf, -inf, -inf, -inf, -inf, -inf, -inf, -inf, -inf,\n",
       "         -inf, -inf, -inf, -inf, -inf, -inf, -inf, -inf, -inf, -inf, -inf, -inf,\n",
       "         -inf, -inf, -inf, -inf, -inf, -inf, -inf, -inf]], device='cuda:0')"
      ]
     },
     "metadata": {},
     "output_type": "display_data"
    },
    {
     "data": {
      "text/plain": [
       "tensor([[  2., 201.,  58., -inf, -inf, -inf, -inf, -inf, -inf, -inf, -inf, -inf,\n",
       "         -inf, -inf, -inf, -inf, -inf, -inf, -inf, -inf, -inf, -inf, -inf, -inf,\n",
       "         -inf, -inf, -inf, -inf, -inf, -inf, -inf, -inf, -inf, -inf, -inf, -inf,\n",
       "         -inf, -inf, -inf, -inf, -inf, -inf, -inf, -inf, -inf, -inf, -inf, -inf,\n",
       "         -inf, -inf, -inf, -inf, -inf, -inf, -inf, -inf]], device='cuda:0')"
      ]
     },
     "metadata": {},
     "output_type": "display_data"
    }
   ],
   "source": [
    "# Step 2: Prepare our inputs and outputs, and create masks\n",
    "\n",
    "# Convert our 1D vector to a 2D tensor; in a real run, this is unneccessary\n",
    "# as the DataLoader returns the right dimensions\n",
    "src = src_vec.unsqueeze(1)\n",
    "tgt = tgt_vec.unsqueeze(1)\n",
    "\n",
    "# Place onto the same device as the model\n",
    "src = src.to(DEVICE)\n",
    "tgt = tgt.to(DEVICE)\n",
    "\n",
    "# We have to cut off the end token when inputting the target sequence, as there\n",
    "# is no token after the final token for us to predict.\n",
    "tgt_input = tgt[:-1, :]\n",
    "\n",
    "# Create our masks\n",
    "src_mask, tgt_mask, src_padding_mask, tgt_padding_mask = create_mask(src, tgt_input)\n",
    "\n",
    "# As we have a batch size of 1, both padding masks are redundant (we have no\n",
    "# padding). The target mask is the important one - it is essentially a series of mask vectors.\n",
    "# The first vector hides everything except the first token, so that we can predict the \n",
    "# second word. The second vector reveals the first two words, etc.\n",
    "display(tgt_mask.shape)\n",
    "\n",
    "for i in range(0,3):\n",
    "    masked_target = tgt_input.reshape(1, tgt_mask.shape[0]) + tgt_mask[i]\n",
    "    display(masked_target)"
   ]
  },
  {
   "cell_type": "code",
   "execution_count": 335,
   "id": "fe59f1b7",
   "metadata": {},
   "outputs": [
    {
     "data": {
      "text/plain": [
       "torch.Size([56, 1, 30315])"
      ]
     },
     "metadata": {},
     "output_type": "display_data"
    },
    {
     "data": {
      "text/plain": [
       "30315"
      ]
     },
     "metadata": {},
     "output_type": "display_data"
    }
   ],
   "source": [
    "# Step 3: Get our logits\n",
    "\n",
    "# Before running model, set some hooks\n",
    "activation = {}\n",
    "def get_activation(name):\n",
    "    def hook(model, input, output):\n",
    "        activation[name] = output.detach()\n",
    "    return hook\n",
    "\n",
    "transformer.src_tok_emb.register_forward_hook(get_activation('src_tok_emb'))\n",
    "transformer.tgt_tok_emb.register_forward_hook(get_activation('tgt_tok_emb'))\n",
    "\n",
    "# Get logits\n",
    "logits = transformer(src, tgt_input, src_mask, tgt_mask,src_padding_mask, tgt_padding_mask, src_padding_mask)\n",
    "\n",
    "# The resulting tensor gives us, for every masked variant of the input, a score for every possible\n",
    "# next token. See that the tensor is size 56 (for the 56 target tokens, and therefore 56 masked variants), \n",
    "# by 1 (for a batch size of 1), by 30315 (the size of our vocab, to allow a probability per possible token)\n",
    "display(logits.shape)\n",
    "display(len(vocab_transform))"
   ]
  },
  {
   "cell_type": "markdown",
   "id": "76c6abf8",
   "metadata": {},
   "source": [
    "What happened int hat last step? Our model took both our source sequence and target sequence, and outputted a set of un-normalised probabilities (logits). To do this, the model applied token and positional embedding to both source and target, and took both sequences through the various Linear layers and Attention modules.\n",
    "\n",
    "Let's dig into these logits a bit more. I can pick the indices with the 5 greatest scores to determine the 3 most likely words to come after *bos*, for my given input."
   ]
  },
  {
   "cell_type": "code",
   "execution_count": 336,
   "id": "fcea28ac",
   "metadata": {},
   "outputs": [
    {
     "data": {
      "text/plain": [
       "['The', 'As', 'I', 'We', 'Many']"
      ]
     },
     "metadata": {},
     "output_type": "display_data"
    }
   ],
   "source": [
    "# All pretty standard words - all capitalised as you'd expect for a starting word\n",
    "display(vocab_transform.lookup_tokens(list(torch.topk(logits[0], 5).indices.tolist()[0])))"
   ]
  },
  {
   "cell_type": "markdown",
   "id": "7ed251b6",
   "metadata": {},
   "source": [
    "I can look at a longer part of the target sequence to see what the next word might be."
   ]
  },
  {
   "cell_type": "code",
   "execution_count": 337,
   "id": "69d03b30",
   "metadata": {},
   "outputs": [
    {
     "name": "stdout",
     "output_type": "stream",
     "text": [
      "\n",
      "Masked target: ['<bos>']\n",
      "Most propable next word: ['The', 'As', 'I', 'We', 'Many']\n",
      "\n",
      "Masked target: ['<bos>', 'Many']\n",
      "Most propable next word: ['schools', 'students', 'parents', 'young', 'children']\n",
      "\n",
      "Masked target: ['<bos>', 'Many', 'children']\n",
      "Most propable next word: ['are', 'in', 'do', 'have', 'across']\n",
      "\n",
      "Masked target: ['<bos>', 'Many', 'children', 'and']\n",
      "Most propable next word: ['school', 'young', 'their', 'parents', 'children']\n",
      "\n",
      "Masked target: ['<bos>', 'Many', 'children', 'and', 'are']\n",
      "Most propable next word: ['being', 'forced', 'not', 'expected', 'in']\n"
     ]
    }
   ],
   "source": [
    "def display_masked_target_and_predictions(i):\n",
    "    masked_target = tgt_input.reshape(1, tgt_mask.shape[0]) + tgt_mask[i]\n",
    "    unmasked_target_sequence = masked_target[0].tolist()[:i+1]\n",
    "    unmasked_target_sequence = [int(x) for x in unmasked_target_sequence]\n",
    "\n",
    "    print(\"\\nMasked target: {}\"\n",
    "          .format(vocab_transform.lookup_tokens(unmasked_target_sequence)))\n",
    "\n",
    "    print(\"Most propable next word: {}\"\n",
    "          .format(vocab_transform.lookup_tokens(list(torch.topk(logits[i], 5).indices.tolist()[0]))))\n",
    "    \n",
    "display_masked_target_and_predictions(0)\n",
    "display_masked_target_and_predictions(1)\n",
    "display_masked_target_and_predictions(2)\n",
    "display_masked_target_and_predictions(3)\n",
    "display_masked_target_and_predictions(4)"
   ]
  },
  {
   "cell_type": "markdown",
   "id": "e4020a2b",
   "metadata": {},
   "source": [
    "We can see that the first prediction is not bad - the right answer is 5th most likely out of over 30k words. Same again for the next word. The predictins lean towards themes of school and children even before any such terms are revealed in the target sequence, so this is picked up from the source sequence, and the top predictions at each step make grammatical sense. "
   ]
  },
  {
   "cell_type": "code",
   "execution_count": 338,
   "id": "72f20019",
   "metadata": {},
   "outputs": [
    {
     "data": {
      "text/plain": [
       "tensor(4.8950, device='cuda:0', grad_fn=<NllLossBackward0>)"
      ]
     },
     "execution_count": 338,
     "metadata": {},
     "output_type": "execute_result"
    }
   ],
   "source": [
    "# Step 4: Calculate loss\n",
    "\n",
    "# Finally, we calculate the cross entropy loss. The logits are raw values, not propbabilities,\n",
    "# but the inbuilt cross entropy loss function from PyTorch applies a Softmax behind the scenes.\n",
    "\n",
    "loss_fn(logits.reshape(-1, logits.shape[-1]), tgt_out.reshape(-1))"
   ]
  },
  {
   "cell_type": "markdown",
   "id": "1e465d74",
   "metadata": {},
   "source": [
    "And just out of interest, you can even get the embeddings of the source and target sequences (see that for each input word, we have a 512-length vector)."
   ]
  },
  {
   "cell_type": "code",
   "execution_count": 339,
   "id": "e11778f6",
   "metadata": {},
   "outputs": [
    {
     "data": {
      "text/plain": [
       "torch.Size([17, 1, 512])"
      ]
     },
     "metadata": {},
     "output_type": "display_data"
    },
    {
     "data": {
      "text/plain": [
       "torch.Size([56, 1, 512])"
      ]
     },
     "metadata": {},
     "output_type": "display_data"
    }
   ],
   "source": [
    "display(activation['src_tok_emb'].shape)\n",
    "display(activation['tgt_tok_emb'].shape)"
   ]
  },
  {
   "cell_type": "markdown",
   "id": "d50d4b17",
   "metadata": {},
   "source": [
    "### Writing petitions\n",
    "\n",
    "It's finally time to write some petitions!\n",
    "\n",
    "As we saw before, we can predict probabilities for a \"next\" word based on both the entire source sequence and the target sequence up to that point. For creating new text, we essentialy do the same thing. Starting with a target that is simply **bos**, we predict probabilities for all possible first words. We then select the most likely word, and repeat the process, this time with a target that includes that chosen first word. We continue doing this until we either hit a maximum sequence length, or the token **eos** is predicted.\n",
    "\n",
    "This approach is called greedy decoding. There are other options which make a tree of possible sequences and choose the most likely branch overall, but greedy is simplest."
   ]
  },
  {
   "cell_type": "code",
   "execution_count": 341,
   "id": "c607e669",
   "metadata": {},
   "outputs": [],
   "source": [
    "# Function to generate output sequence using greedy algorithm\n",
    "def greedy_decode(model, src, src_mask, max_len, start_symbol):\n",
    "    src = src.to(DEVICE)\n",
    "    src_mask = src_mask.to(DEVICE)\n",
    "\n",
    "    memory = model.encode(src, src_mask)\n",
    "    ys = torch.ones(1, 1).fill_(start_symbol).type(torch.long).to(DEVICE)\n",
    "    for i in range(max_len-1):\n",
    "        memory = memory.to(DEVICE)\n",
    "        tgt_mask = (generate_square_subsequent_mask(ys.size(0))\n",
    "                    .type(torch.bool)).to(DEVICE)\n",
    "        out = model.decode(ys, memory, tgt_mask)\n",
    "        out = out.transpose(0, 1)\n",
    "        prob = model.generator(out[:, -1])\n",
    "        _, next_word = torch.max(prob, dim=1)\n",
    "        next_word = next_word.item()\n",
    "\n",
    "        ys = torch.cat([ys,\n",
    "                        torch.ones(1, 1).type_as(src.data).fill_(next_word)], dim=0)\n",
    "        if next_word == EOS_IDX:\n",
    "            break\n",
    "    return ys\n",
    "\n",
    "# Actual function to translate input sentence into target language\n",
    "def translate(model: torch.nn.Module, src_sentence: str):\n",
    "    model.eval()\n",
    "    src = text_transform(src_sentence).view(-1, 1)\n",
    "    num_tokens = src.shape[0]\n",
    "    src_mask = (torch.zeros(num_tokens, num_tokens)).type(torch.bool)\n",
    "    tgt_tokens = greedy_decode(\n",
    "        model,  src, src_mask, max_len=num_tokens + 100, start_symbol=BOS_IDX).flatten()\n",
    "    return \" \".join(vocab_transform.lookup_tokens(list(tgt_tokens.cpu().numpy())))"
   ]
  },
  {
   "cell_type": "markdown",
   "id": "b3e6c0f2",
   "metadata": {},
   "source": [
    "First, let's try our previous example from the validation set."
   ]
  },
  {
   "cell_type": "code",
   "execution_count": 348,
   "id": "159b29d3",
   "metadata": {},
   "outputs": [
    {
     "name": "stdout",
     "output_type": "stream",
     "text": [
      "\n",
      "Actual title: Introduce work-based subjects and practical skills into the schools in the UK.\n",
      "\n",
      "Actual description: Many children and are choosing to live a life surrounded by the streets, drugs, and murders. This stems from poor education, the education system in the UK is outdated and boring. There needs to be a change to help children, give them confidence and knowledge of work skills.\n",
      "\n",
      "Predicted description: <bos> The current curriculum for students , and school are not allowed to teach their children about their school , however , we are not taught about how to teach our children 's education . This is a problem that we do n't know what is a GCSE and we do n't know how to teach our children ? <eos>\n"
     ]
    }
   ],
   "source": [
    "datapoint = data_valid[0]\n",
    "\n",
    "print(\"\\nActual title: \" + datapoint[0])\n",
    "print(\"\\nActual description: \" + datapoint[1])\n",
    "print(\"\\nPredicted description: \" + translate(transformer, datapoint[0]))"
   ]
  },
  {
   "cell_type": "markdown",
   "id": "466f5ec5",
   "metadata": {},
   "source": [
    "Not bad! The prediction sticks to talking about education and mostly makes grammatical sense. It doesn't make a whole lot of **actual** sense, but that's what happens with a relatively small model and pretty small training data. Let's try another."
   ]
  },
  {
   "cell_type": "code",
   "execution_count": 364,
   "id": "1f62037f",
   "metadata": {},
   "outputs": [
    {
     "name": "stdout",
     "output_type": "stream",
     "text": [
      "\n",
      "Actual title: Give EU citizens working in the NHS free indefinite leave to remain in the UK.\n",
      "\n",
      "Actual description: The possibility of a \"no-deal\" Brexit has been described as uncomfortably high. \n",
      "There are a significant number of EU citizens working in the NHS.  Any disruption in their working rights may have catastrophic effects. The government should give them indefinite leave to remain for free.\n",
      "\n",
      "\n",
      "Predicted description: <bos> The UK should not be able to leave the EU after Brexit , as they are entitled to a referendum . \n",
      " If we leave the EU , we can not afford to pay for free prescriptions , we should not be able to pay to pay for free movement of people who are entitled to pay . <eos>\n"
     ]
    }
   ],
   "source": [
    "datapoint = data_valid[16]\n",
    "\n",
    "print(\"\\nActual title: \" + datapoint[0])\n",
    "print(\"\\nActual description: \" + datapoint[1])\n",
    "print(\"\\nPredicted description: \" + translate(transformer, datapoint[0]))"
   ]
  },
  {
   "cell_type": "markdown",
   "id": "c9fcf237",
   "metadata": {},
   "source": [
    "Again, not too bad. We can definitely see some ropey ones though"
   ]
  },
  {
   "cell_type": "code",
   "execution_count": 367,
   "id": "359afc08",
   "metadata": {},
   "outputs": [
    {
     "name": "stdout",
     "output_type": "stream",
     "text": [
      "\n",
      "Actual title: To save the 16 remaining hospital beds at Okehampton Hospital\n",
      "\n",
      "Actual description: The Clinical Commission Group are proposing to remove the 16 remaining hospital beds at Okehampton Hospital. Residents of Okehampton and the surrounding area, urge the retention of our local hospital beds. Okehampton is the hub of a huge rural area with a population of 20,000 people. .\n",
      "\n",
      "Predicted description: <bos> The government has announced the government to cut the funding of the town of the town and the town of the town . \n",
      " The government has to cut the funding of the town and the closure of the town of the town has to cut the town of the town . <eos>\n"
     ]
    }
   ],
   "source": [
    "datapoint = data_valid[12]\n",
    "\n",
    "print(\"\\nActual title: \" + datapoint[0])\n",
    "print(\"\\nActual description: \" + datapoint[1])\n",
    "print(\"\\nPredicted description: \" + translate(transformer, datapoint[0]))"
   ]
  },
  {
   "cell_type": "markdown",
   "id": "f3607508",
   "metadata": {},
   "source": [
    "This kind of repetition is a pretty classic issue in generating long text. Finally, let's try to make up some new titles"
   ]
  },
  {
   "cell_type": "code",
   "execution_count": 375,
   "id": "7eb673ba",
   "metadata": {},
   "outputs": [
    {
     "data": {
      "text/plain": [
       "'<bos> The government should provide a better education for students to be able to provide their children for their children . <eos>'"
      ]
     },
     "metadata": {},
     "output_type": "display_data"
    },
    {
     "data": {
      "text/plain": [
       "'<bos> I believe that the current law should be a legal requirement to protect children from the country and learn about how to learn how much of the country is a good form of abuse . <eos>'"
      ]
     },
     "metadata": {},
     "output_type": "display_data"
    },
    {
     "data": {
      "text/plain": [
       "'<bos> The UK government must provide the use of human rights to protect animals from entering the UK to provide access to the use of development to use the use of development which allows the use of development to use their products to use by banning their use . <eos>'"
      ]
     },
     "metadata": {},
     "output_type": "display_data"
    }
   ],
   "source": [
    "display(translate(transformer, \"All children should learn computer science.\"))\n",
    "display(translate(transformer, \"Artificial intelligence should rule the country.\"))\n",
    "display(translate(transformer, \"The country should be ruled by AI.\"))"
   ]
  }
 ],
 "metadata": {
  "kernelspec": {
   "display_name": "conda_pytorch_latest_p36",
   "language": "python",
   "name": "conda_pytorch_latest_p36"
  },
  "language_info": {
   "codemirror_mode": {
    "name": "ipython",
    "version": 3
   },
   "file_extension": ".py",
   "mimetype": "text/x-python",
   "name": "python",
   "nbconvert_exporter": "python",
   "pygments_lexer": "ipython3",
   "version": "3.6.13"
  }
 },
 "nbformat": 4,
 "nbformat_minor": 5
}
